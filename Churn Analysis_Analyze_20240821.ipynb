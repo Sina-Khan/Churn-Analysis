{
 "cells": [
  {
   "cell_type": "code",
   "execution_count": 1,
   "id": "a8fb550b",
   "metadata": {},
   "outputs": [],
   "source": [
    "import pandas as pd\n",
    "\n",
    "# Load the dimension tables\n",
    "customer_dim = pd.read_csv('Customer_Dim.csv')\n",
    "date_dim = pd.read_csv('Date_Dim.csv')\n",
    "product_dim = pd.read_csv('Product_Dim.csv')\n",
    "location_dim = pd.read_csv('Location_Dim.csv')\n",
    "\n",
    "# Load the fact table\n",
    "churn_fact = pd.read_csv('Churn_Fact.csv')"
   ]
  },
  {
   "cell_type": "code",
   "execution_count": 2,
   "id": "0a6dbdd1",
   "metadata": {},
   "outputs": [
    {
     "name": "stdout",
     "output_type": "stream",
     "text": [
      "Customer Dimension:\n",
      "   Customer_ID               Name  Age  Gender          Location\n",
      "0            1      Katie Allison   34  Female  New Timothyburgh\n",
      "1            2  Danielle Mccarthy   52    Male          Jacobton\n",
      "2            3     Richard Murray   55    Male   East Samueltown\n",
      "3            4      Larry Jackson   25    Male     Ashleychester\n",
      "4            5         Logan Long   66  Female      Lake Jeffrey\n",
      "\n",
      "Date Dimension:\n",
      "         Date  Year  Month  Day  Weekday\n",
      "0  2022-01-01  2022      1    1        5\n",
      "1  2022-01-02  2022      1    2        6\n",
      "2  2022-01-03  2022      1    3        0\n",
      "3  2022-01-04  2022      1    4        1\n",
      "4  2022-01-05  2022      1    5        2\n",
      "\n",
      "Product Dimension:\n",
      "   Product_ID Product_Name Product_Type       Price\n",
      "0           1    Product_1       Type_A  283.742999\n",
      "1           2    Product_2       Type_B  295.830866\n",
      "2           3    Product_3       Type_C   87.356391\n",
      "3           4    Product_4       Type_C  155.333138\n",
      "4           5    Product_5       Type_A  412.259055\n",
      "\n",
      "Location Dimension:\n",
      "   Location_ID             City State    Country\n",
      "0            1   North Courtney    MA  Country_X\n",
      "1            2        Derekview    WY  Country_X\n",
      "2            3      Manuelshire    WA  Country_X\n",
      "3            4         Daviston    NJ  Country_X\n",
      "4            5  Christopherview    MT  Country_X\n",
      "\n",
      "Churn Fact Table:\n",
      "   Customer_ID        Date  Product_ID  Churn_Status\n",
      "0          914  2022-12-22           8             0\n",
      "1        42207  2023-07-06           1             1\n",
      "2        12247  2023-10-23           3             0\n",
      "3         2060  2022-02-19          10             0\n",
      "4        27443  2023-06-08           9             0\n"
     ]
    }
   ],
   "source": [
    "# Display the first few rows of each table\n",
    "print(\"Customer Dimension:\")\n",
    "print(customer_dim.head())\n",
    "\n",
    "print(\"\\nDate Dimension:\")\n",
    "print(date_dim.head())\n",
    "\n",
    "print(\"\\nProduct Dimension:\")\n",
    "print(product_dim.head())\n",
    "\n",
    "print(\"\\nLocation Dimension:\")\n",
    "print(location_dim.head())\n",
    "\n",
    "print(\"\\nChurn Fact Table:\")\n",
    "print(churn_fact.head())"
   ]
  },
  {
   "cell_type": "code",
   "execution_count": 3,
   "id": "328cfac9",
   "metadata": {},
   "outputs": [],
   "source": [
    "# Join churn fact with customer dimension\n",
    "churn_data = pd.merge(churn_fact, customer_dim, on='Customer_ID')"
   ]
  },
  {
   "cell_type": "code",
   "execution_count": 4,
   "id": "dd6619da",
   "metadata": {},
   "outputs": [
    {
     "name": "stdout",
     "output_type": "stream",
     "text": [
      "   Customer_ID        Date  Product_ID  Churn_Status           Name  Age  \\\n",
      "0        20793  2022-12-22           8             1  Amy Davenport   47   \n",
      "1        20793  2022-12-22           8             1  Amy Davenport   47   \n",
      "2        20793  2022-12-22           8             1  Amy Davenport   47   \n",
      "3        20793  2022-10-18           7             0  Amy Davenport   47   \n",
      "4        20793  2022-10-18           7             0  Amy Davenport   47   \n",
      "\n",
      "   Gender    Location  Year  Month  Day  Weekday Product_Name Product_Type  \\\n",
      "0  Female  Jamiemouth  2022     12   22        3    Product_8       Type_B   \n",
      "1  Female  Jamiemouth  2022     12   22        3    Product_8       Type_B   \n",
      "2  Female  Jamiemouth  2022     12   22        3    Product_8       Type_B   \n",
      "3  Female  Jamiemouth  2022     10   18        1    Product_7       Type_A   \n",
      "4  Female  Jamiemouth  2022     10   18        1    Product_7       Type_A   \n",
      "\n",
      "        Price  Location_ID        City State    Country  \n",
      "0  428.998697         6506  Jamiemouth    MA  Country_X  \n",
      "1  428.998697        11540  Jamiemouth    TX  Country_X  \n",
      "2  428.998697        15052  Jamiemouth    GA  Country_X  \n",
      "3  118.053231         6506  Jamiemouth    MA  Country_X  \n",
      "4  118.053231        11540  Jamiemouth    TX  Country_X  \n"
     ]
    }
   ],
   "source": [
    "# Merge with date dimension\n",
    "churn_data = pd.merge(churn_data, date_dim, left_on='Date', right_on='Date')\n",
    "\n",
    "# Merge with product dimension\n",
    "churn_data = pd.merge(churn_data, product_dim, on='Product_ID')\n",
    "\n",
    "# Merge with location dimension (assuming location is part of customer data)\n",
    "churn_data = pd.merge(churn_data, location_dim, left_on='Location', right_on='City')\n",
    "\n",
    "# Display the first few rows of the final merged dataset\n",
    "print(churn_data.head())"
   ]
  },
  {
   "cell_type": "code",
   "execution_count": 5,
   "id": "b20e79e0",
   "metadata": {},
   "outputs": [
    {
     "name": "stdout",
     "output_type": "stream",
     "text": [
      "Overall Churn Rate: 30.00%\n"
     ]
    }
   ],
   "source": [
    "# Calculate overall churn rate\n",
    "churn_rate = churn_data['Churn_Status'].mean()\n",
    "print(f\"Overall Churn Rate: {churn_rate:.2%}\")"
   ]
  },
  {
   "cell_type": "code",
   "execution_count": 6,
   "id": "10d5ddfe",
   "metadata": {},
   "outputs": [
    {
     "name": "stdout",
     "output_type": "stream",
     "text": [
      "  Product_Name  Churn_Status\n",
      "0    Product_1      0.296245\n",
      "1   Product_10      0.311760\n",
      "2    Product_2      0.295711\n",
      "3    Product_3      0.299369\n",
      "4    Product_4      0.290920\n",
      "5    Product_5      0.315679\n",
      "6    Product_6      0.288262\n",
      "7    Product_7      0.293134\n",
      "8    Product_8      0.294741\n",
      "9    Product_9      0.313329\n"
     ]
    }
   ],
   "source": [
    "# Calculate churn rate by product\n",
    "churn_by_product = churn_data.groupby('Product_Name')['Churn_Status'].mean().reset_index()\n",
    "print(churn_by_product)"
   ]
  },
  {
   "cell_type": "code",
   "execution_count": 7,
   "id": "11fad824",
   "metadata": {},
   "outputs": [
    {
     "name": "stdout",
     "output_type": "stream",
     "text": [
      "  Age_Group  Churn_Status\n",
      "0     18-30      0.298747\n",
      "1     31-40      0.303455\n",
      "2     41-50      0.300391\n",
      "3     51-60      0.294427\n",
      "4     61-70      0.305159\n"
     ]
    }
   ],
   "source": [
    "# Create age groups\n",
    "churn_data['Age_Group'] = pd.cut(churn_data['Age'], bins=[18, 30, 40, 50, 60, 70], labels=['18-30', '31-40', '41-50', '51-60', '61-70'])\n",
    "\n",
    "# Calculate churn rate by age group\n",
    "churn_by_age_group = churn_data.groupby('Age_Group')['Churn_Status'].mean().reset_index()\n",
    "print(churn_by_age_group)"
   ]
  },
  {
   "cell_type": "code",
   "execution_count": 8,
   "id": "8f5a0244",
   "metadata": {},
   "outputs": [
    {
     "name": "stdout",
     "output_type": "stream",
     "text": [
      "               City  Churn_Status\n",
      "0         Aaronberg           0.2\n",
      "1         Aaronbury           0.0\n",
      "2      Aaronchester           1.0\n",
      "3         Aaronfurt           1.0\n",
      "4         Aaronland           0.0\n",
      "...             ...           ...\n",
      "9733  Zimmermantown           0.0\n",
      "9734  Zimmermanview           0.0\n",
      "9735       Zoeburgh           0.0\n",
      "9736     Zunigafurt           0.0\n",
      "9737    Zunigaville           0.0\n",
      "\n",
      "[9738 rows x 2 columns]\n"
     ]
    }
   ],
   "source": [
    "# Calculate churn rate by city\n",
    "churn_by_location = churn_data.groupby('City')['Churn_Status'].mean().reset_index()\n",
    "print(churn_by_location)"
   ]
  },
  {
   "cell_type": "code",
   "execution_count": 9,
   "id": "0b46bb31",
   "metadata": {},
   "outputs": [
    {
     "data": {
      "image/png": "[encoded data removed]",
      "text/plain": [
       "<Figure size 720x432 with 1 Axes>"
      ]
     },
     "metadata": {
      "needs_background": "light"
     },
     "output_type": "display_data"
    },
    {
     "data": {
      "image/png": "[encoded data removed]",
      "text/plain": [
       "<Figure size 720x432 with 1 Axes>"
      ]
     },
     "metadata": {
      "needs_background": "light"
     },
     "output_type": "display_data"
    },
    {
     "data": {
      "image/png": "[encoded data removed]",
      "text/plain": [
       "<Figure size 720x432 with 1 Axes>"
      ]
     },
     "metadata": {
      "needs_background": "light"
     },
     "output_type": "display_data"
    }
   ],
   "source": [
    "import matplotlib.pyplot as plt\n",
    "import seaborn as sns\n",
    "\n",
    "# Visualize churn rate by product\n",
    "plt.figure(figsize=(10, 6))\n",
    "sns.barplot(x='Product_Name', y='Churn_Status', data=churn_by_product)\n",
    "plt.title('Churn Rate by Product')\n",
    "plt.show()\n",
    "\n",
    "# Visualize churn rate by age group\n",
    "plt.figure(figsize=(10, 6))\n",
    "sns.barplot(x='Age_Group', y='Churn_Status', data=churn_by_age_group)\n",
    "plt.title('Churn Rate by Age Group')\n",
    "plt.show()\n",
    "\n",
    "# Visualize churn rate by location\n",
    "plt.figure(figsize=(10, 6))\n",
    "sns.barplot(x='City', y='Churn_Status', data=churn_by_location)\n",
    "plt.title('Churn Rate by Location')\n",
    "plt.xticks(rotation=90)\n",
    "plt.show()\n"
   ]
  },
  {
   "cell_type": "code",
   "execution_count": 11,
   "id": "10cf18f4",
   "metadata": {},
   "outputs": [
    {
     "name": "stdout",
     "output_type": "stream",
     "text": [
      "Accuracy: 0.70\n",
      "              precision    recall  f1-score   support\n",
      "\n",
      "           0       0.70      1.00      0.83     42408\n",
      "           1       0.00      0.00      0.00     17923\n",
      "\n",
      "    accuracy                           0.70     60331\n",
      "   macro avg       0.35      0.50      0.41     60331\n",
      "weighted avg       0.49      0.70      0.58     60331\n",
      "\n"
     ]
    },
    {
     "name": "stderr",
     "output_type": "stream",
     "text": [
      "C:\\Users\\49176\\anaconda3\\lib\\site-packages\\sklearn\\metrics\\_classification.py:1248: UndefinedMetricWarning: Precision and F-score are ill-defined and being set to 0.0 in labels with no predicted samples. Use `zero_division` parameter to control this behavior.\n",
      "  _warn_prf(average, modifier, msg_start, len(result))\n",
      "C:\\Users\\49176\\anaconda3\\lib\\site-packages\\sklearn\\metrics\\_classification.py:1248: UndefinedMetricWarning: Precision and F-score are ill-defined and being set to 0.0 in labels with no predicted samples. Use `zero_division` parameter to control this behavior.\n",
      "  _warn_prf(average, modifier, msg_start, len(result))\n",
      "C:\\Users\\49176\\anaconda3\\lib\\site-packages\\sklearn\\metrics\\_classification.py:1248: UndefinedMetricWarning: Precision and F-score are ill-defined and being set to 0.0 in labels with no predicted samples. Use `zero_division` parameter to control this behavior.\n",
      "  _warn_prf(average, modifier, msg_start, len(result))\n"
     ]
    }
   ],
   "source": [
    "from sklearn.model_selection import train_test_split\n",
    "from sklearn.linear_model import LogisticRegression\n",
    "from sklearn.metrics import classification_report, accuracy_score\n",
    "\n",
    "# Prepare the data for modeling\n",
    "X = churn_data[['Age', 'Price', 'Month', 'Product_ID']]  # Example features\n",
    "y = churn_data['Churn_Status']\n",
    "\n",
    "# Split the data into training and testing sets\n",
    "X_train, X_test, y_train, y_test = train_test_split(X, y, test_size=0.3, random_state=42)\n",
    "\n",
    "# Create and train the model\n",
    "model = LogisticRegression()\n",
    "model.fit(X_train, y_train)\n",
    "\n",
    "# Make predictions\n",
    "y_pred = model.predict(X_test)\n",
    "\n",
    "# Evaluate the model\n",
    "print(f\"Accuracy: {accuracy_score(y_test, y_pred):.2f}\")\n",
    "print(classification_report(y_test, y_pred))"
   ]
  },
  {
   "cell_type": "code",
   "execution_count": null,
   "id": "5cc02009",
   "metadata": {},
   "outputs": [],
   "source": []
  }
 ],
 "metadata": {
  "kernelspec": {
   "display_name": "Python 3 (ipykernel)",
   "language": "python",
   "name": "python3"
  },
  "language_info": {
   "codemirror_mode": {
    "name": "ipython",
    "version": 3
   },
   "file_extension": ".py",
   "mimetype": "text/x-python",
   "name": "python",
   "nbconvert_exporter": "python",
   "pygments_lexer": "ipython3",
   "version": "3.9.7"
  }
 },
 "nbformat": 4,
 "nbformat_minor": 5
}
